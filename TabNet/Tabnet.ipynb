{
 "cells": [
  {
   "cell_type": "code",
   "execution_count": 1,
   "id": "12092dc8",
   "metadata": {},
   "outputs": [],
   "source": [
    "from pytorch_tabnet.tab_model import TabNetClassifier, TabNetRegressor\n",
    "from sklearn.metrics import cohen_kappa_score, precision_score, accuracy_score, recall_score,f1_score\n",
    "from tqdm import tqdm\n",
    "import numpy as np\n",
    "import pandas as pd"
   ]
  },
  {
   "cell_type": "markdown",
   "id": "cc63448c",
   "metadata": {},
   "source": [
    "# Data Perser"
   ]
  },
  {
   "cell_type": "code",
   "execution_count": 2,
   "id": "b187fe0e",
   "metadata": {},
   "outputs": [
    {
     "name": "stdout",
     "output_type": "stream",
     "text": [
      "(31167, 47) (988, 47)\n"
     ]
    }
   ],
   "source": [
    "Train = pd.read_csv('../Dataset/Train.csv')\n",
    "Test = pd.read_csv('../Dataset/Test.csv')\n",
    "\n",
    "x_train = np.array(Train.iloc[:,:-1])\n",
    "x_test = np.array(Test.iloc[:,:-1])\n",
    "\n",
    "y_train = Train.iloc[:,-1]\n",
    "y_test = Test.iloc[:,-1]\n",
    "\n",
    "print(x_train.shape, x_test.shape)"
   ]
  },
  {
   "cell_type": "code",
   "execution_count": 3,
   "id": "f9871c1d",
   "metadata": {},
   "outputs": [
    {
     "name": "stdout",
     "output_type": "stream",
     "text": [
      "Device used : cuda\n",
      "No early stopping will be performed, last training weights will be used.\n",
      "epoch 0  | loss: 0.49885 |  0:00:00s\n",
      "epoch 1  | loss: 0.39408 |  0:00:01s\n",
      "epoch 2  | loss: 0.37988 |  0:00:02s\n",
      "epoch 3  | loss: 0.36583 |  0:00:02s\n",
      "epoch 4  | loss: 0.35312 |  0:00:03s\n",
      "epoch 5  | loss: 0.34885 |  0:00:04s\n",
      "epoch 6  | loss: 0.34612 |  0:00:05s\n",
      "epoch 7  | loss: 0.33437 |  0:00:06s\n",
      "epoch 8  | loss: 0.33136 |  0:00:06s\n",
      "epoch 9  | loss: 0.32955 |  0:00:07s\n",
      "epoch 10 | loss: 0.32676 |  0:00:08s\n",
      "epoch 11 | loss: 0.32049 |  0:00:08s\n",
      "epoch 12 | loss: 0.32365 |  0:00:09s\n",
      "epoch 13 | loss: 0.32287 |  0:00:10s\n",
      "epoch 14 | loss: 0.33176 |  0:00:11s\n",
      "epoch 15 | loss: 0.31871 |  0:00:12s\n",
      "epoch 16 | loss: 0.31017 |  0:00:12s\n",
      "epoch 17 | loss: 0.31368 |  0:00:13s\n",
      "epoch 18 | loss: 0.30843 |  0:00:14s\n",
      "epoch 19 | loss: 0.3073  |  0:00:15s\n"
     ]
    }
   ],
   "source": [
    "clf = TabNetClassifier()\n",
    "clf.fit(x_train, y_train, max_epochs=20)"
   ]
  },
  {
   "cell_type": "code",
   "execution_count": 4,
   "id": "54bd0064",
   "metadata": {},
   "outputs": [],
   "source": [
    " prediction_proba = clf.predict_proba(x_test)"
   ]
  },
  {
   "cell_type": "code",
   "execution_count": 5,
   "id": "cbdb6ef4",
   "metadata": {},
   "outputs": [],
   "source": [
    "predictions = clf.predict(x_test)"
   ]
  },
  {
   "cell_type": "code",
   "execution_count": 6,
   "id": "7396b855",
   "metadata": {},
   "outputs": [
    {
     "data": {
      "text/plain": [
       "0.8765182186234818"
      ]
     },
     "execution_count": 6,
     "metadata": {},
     "output_type": "execute_result"
    }
   ],
   "source": [
    "accuracy_score(y_test, predictions)"
   ]
  },
  {
   "cell_type": "code",
   "execution_count": null,
   "id": "83f90827",
   "metadata": {},
   "outputs": [],
   "source": []
  }
 ],
 "metadata": {
  "kernelspec": {
   "display_name": "Python 3 (ipykernel)",
   "language": "python",
   "name": "python3"
  },
  "language_info": {
   "codemirror_mode": {
    "name": "ipython",
    "version": 3
   },
   "file_extension": ".py",
   "mimetype": "text/x-python",
   "name": "python",
   "nbconvert_exporter": "python",
   "pygments_lexer": "ipython3",
   "version": "3.8.0"
  }
 },
 "nbformat": 4,
 "nbformat_minor": 5
}
