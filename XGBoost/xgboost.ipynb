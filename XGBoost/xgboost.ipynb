{
 "cells": [
  {
   "cell_type": "code",
   "execution_count": 1,
   "id": "221bc7bd",
   "metadata": {},
   "outputs": [],
   "source": [
    "from collections import Counter\n",
    "import pandas as pd\n",
    "import numpy as np\n",
    "from xgboost import XGBClassifier\n",
    "from imblearn.over_sampling import BorderlineSMOTE\n",
    "from sklearn.metrics import precision_score, accuracy_score, recall_score,f1_score"
   ]
  },
  {
   "cell_type": "markdown",
   "id": "63e1ddb8",
   "metadata": {},
   "source": [
    "# Data parser"
   ]
  },
  {
   "cell_type": "code",
   "execution_count": 2,
   "id": "95d6ebf3",
   "metadata": {},
   "outputs": [
    {
     "name": "stdout",
     "output_type": "stream",
     "text": [
      "(31167, 47) (988, 47)\n"
     ]
    }
   ],
   "source": [
    "Train = pd.read_csv('../Dataset/Train.csv')\n",
    "Test = pd.read_csv('../Dataset/Test.csv')\n",
    "\n",
    "x_train = np.array(Train.iloc[:,:-1])\n",
    "x_test = np.array(Test.iloc[:,:-1])\n",
    "\n",
    "y_train = Train.iloc[:,-1]\n",
    "y_test = Test.iloc[:,-1]\n",
    "\n",
    "print(x_train.shape, x_test.shape)"
   ]
  },
  {
   "cell_type": "markdown",
   "id": "51abf22e",
   "metadata": {},
   "source": [
    "# XGBoost Classifier"
   ]
  },
  {
   "cell_type": "code",
   "execution_count": 3,
   "id": "0d751e3a",
   "metadata": {},
   "outputs": [],
   "source": [
    "class XGBoostClassifier:\n",
    "    def __init__(self, params):\n",
    "        self.xgb_clf = XGBClassifier(**params)\n",
    "\n",
    "    def fit(self, x_train, y_train, oversampling=False):\n",
    "        if oversampling:\n",
    "            print('Previous dataset shape %s' % Counter(y_train))\n",
    "            sm = BorderlineSMOTE(random_state=42)\n",
    "            x_train, y_train = sm.fit_resample(x_train, y_train)\n",
    "            print('Resampled dataset shape %s' % Counter(y_train))\n",
    "        self.xgb_clf.fit(x_train, y_train)\n",
    "\n",
    "    def predict(self, x_test):\n",
    "        predictions = self.xgb_clf.predict(x_test)\n",
    "        return predictions\n",
    "\n",
    "    def predict_proba(self, x_test):\n",
    "        proba = self.xgb_clf.predict_proba(x_test)\n",
    "        return proba\n",
    "    \n",
    "    def evaluate(self, x_test, y_test):\n",
    "        y_pred = self.predict(x_test)\n",
    "        print('Accuracy : ',accuracy_score(y_test, y_pred))\n",
    "        print('Recall : ',recall_score(y_test, y_pred))\n",
    "        print('F1 score : ',f1_score(y_test, y_pred))"
   ]
  },
  {
   "cell_type": "code",
   "execution_count": 4,
   "id": "f94ab83a",
   "metadata": {},
   "outputs": [],
   "source": [
    "params = {'n_estimators': 80, 'learning_rate': 0.5,\n",
    "          'max_depth': 3, 'random_state': 0,\n",
    "         'n_jobs':-1}\n",
    "\n",
    "XGB = XGBoostClassifier(params)"
   ]
  },
  {
   "cell_type": "markdown",
   "id": "1a8746a7",
   "metadata": {},
   "source": [
    "# with oversampling"
   ]
  },
  {
   "cell_type": "code",
   "execution_count": 5,
   "id": "25f02896",
   "metadata": {},
   "outputs": [
    {
     "name": "stdout",
     "output_type": "stream",
     "text": [
      "Previous dataset shape Counter({0: 24254, 1: 6913})\n",
      "Resampled dataset shape Counter({1: 24254, 0: 24254})\n",
      "Accuracy :  0.8228744939271255\n",
      "Recall :  0.828125\n",
      "F1 score :  0.7078464106844741\n"
     ]
    }
   ],
   "source": [
    "XGB.fit(x_train, y_train, oversampling=True)\n",
    "XGB.evaluate(x_test, y_test)"
   ]
  },
  {
   "cell_type": "markdown",
   "id": "11c8f77e",
   "metadata": {},
   "source": [
    "# without oversampling"
   ]
  },
  {
   "cell_type": "code",
   "execution_count": 6,
   "id": "0ee647b6",
   "metadata": {},
   "outputs": [
    {
     "name": "stdout",
     "output_type": "stream",
     "text": [
      "Accuracy :  0.8846153846153846\n",
      "Recall :  0.58984375\n",
      "F1 score :  0.7259615384615384\n"
     ]
    }
   ],
   "source": [
    "XGB.fit(x_train, y_train, oversampling=False)\n",
    "XGB.evaluate(x_test, y_test)"
   ]
  },
  {
   "cell_type": "code",
   "execution_count": null,
   "id": "d73a4aef",
   "metadata": {},
   "outputs": [],
   "source": []
  }
 ],
 "metadata": {
  "kernelspec": {
   "display_name": "Python 3 (ipykernel)",
   "language": "python",
   "name": "python3"
  },
  "language_info": {
   "codemirror_mode": {
    "name": "ipython",
    "version": 3
   },
   "file_extension": ".py",
   "mimetype": "text/x-python",
   "name": "python",
   "nbconvert_exporter": "python",
   "pygments_lexer": "ipython3",
   "version": "3.8.0"
  }
 },
 "nbformat": 4,
 "nbformat_minor": 5
}
