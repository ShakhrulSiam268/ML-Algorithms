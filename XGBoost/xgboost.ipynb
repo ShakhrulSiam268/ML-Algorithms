{
 "cells": [
  {
   "cell_type": "code",
   "execution_count": 1,
   "id": "221bc7bd",
   "metadata": {},
   "outputs": [],
   "source": [
    "from collections import Counter\n",
    "import pandas as pd\n",
    "import numpy as np\n",
    "from xgboost import XGBClassifier\n",
    "from sklearn.metrics import cohen_kappa_score, precision_score, accuracy_score, recall_score,f1_score"
   ]
  },
  {
   "cell_type": "code",
   "execution_count": 2,
   "id": "99127d4d",
   "metadata": {},
   "outputs": [
    {
     "name": "stdout",
     "output_type": "stream",
     "text": [
      "(31167, 47) (988, 47)\n"
     ]
    }
   ],
   "source": [
    "Train = pd.read_csv('../Dataset/Train.csv')\n",
    "Test = pd.read_csv('../Dataset/Test.csv')\n",
    "\n",
    "x_train = np.array(Train.iloc[:,:-1])\n",
    "x_test = np.array(Test.iloc[:,:-1])\n",
    "\n",
    "y_train = Train.iloc[:,-1]\n",
    "y_test = Test.iloc[:,-1]\n",
    "\n",
    "print(x_train.shape, x_test.shape)"
   ]
  },
  {
   "cell_type": "code",
   "execution_count": 3,
   "id": "165059f5",
   "metadata": {},
   "outputs": [],
   "source": [
    "class XGBoostClassifier:\n",
    "    def __init__(self, n_estimators=80, learning_rate=0.5, max_features=15, max_depth=3):\n",
    "        args = {'n_estimators': n_estimators, 'learning_rate': learning_rate,\n",
    "                'max_features': max_features, 'max_depth': max_depth, 'random_state': 0}\n",
    "        self.xgb_clf = XGBClassifier(**args)\n",
    "\n",
    "    def fit(self, x_train, y_train):\n",
    "        self.xgb_clf.fit(x_train, y_train)\n",
    "\n",
    "    def predict(self, x_test):\n",
    "        predictions = self.xgb_clf.predict(x_test)\n",
    "        return predictions\n",
    "\n",
    "    def predict_proba(self, x_test):\n",
    "        proba = self.xgb_clf.predict_proba(x_test)\n",
    "        return proba"
   ]
  },
  {
   "cell_type": "code",
   "execution_count": 4,
   "id": "f94ab83a",
   "metadata": {},
   "outputs": [],
   "source": [
    "XGB = XGBoostClassifier(n_estimators=80, learning_rate=0.5, max_features=15, max_depth=3)"
   ]
  },
  {
   "cell_type": "code",
   "execution_count": 5,
   "id": "825cf32f",
   "metadata": {},
   "outputs": [
    {
     "name": "stdout",
     "output_type": "stream",
     "text": [
      "[12:00:16] WARNING: ../src/learner.cc:627: \n",
      "Parameters: { \"max_features\" } might not be used.\n",
      "\n",
      "  This could be a false alarm, with some parameters getting used by language bindings but\n",
      "  then being mistakenly passed down to XGBoost core, or some parameter actually being used\n",
      "  but getting flagged wrongly here. Please open an issue if you find any such cases.\n",
      "\n",
      "\n"
     ]
    }
   ],
   "source": [
    "XGB.fit(x_train, y_train)"
   ]
  },
  {
   "cell_type": "code",
   "execution_count": 6,
   "id": "a7211950",
   "metadata": {},
   "outputs": [
    {
     "data": {
      "text/plain": [
       "0.8846153846153846"
      ]
     },
     "execution_count": 6,
     "metadata": {},
     "output_type": "execute_result"
    }
   ],
   "source": [
    "predictions = XGB.predict(x_test)\n",
    "accuracy_score(y_test, predictions)"
   ]
  },
  {
   "cell_type": "code",
   "execution_count": null,
   "id": "d73a4aef",
   "metadata": {},
   "outputs": [],
   "source": []
  }
 ],
 "metadata": {
  "kernelspec": {
   "display_name": "Python 3 (ipykernel)",
   "language": "python",
   "name": "python3"
  },
  "language_info": {
   "codemirror_mode": {
    "name": "ipython",
    "version": 3
   },
   "file_extension": ".py",
   "mimetype": "text/x-python",
   "name": "python",
   "nbconvert_exporter": "python",
   "pygments_lexer": "ipython3",
   "version": "3.8.0"
  }
 },
 "nbformat": 4,
 "nbformat_minor": 5
}
