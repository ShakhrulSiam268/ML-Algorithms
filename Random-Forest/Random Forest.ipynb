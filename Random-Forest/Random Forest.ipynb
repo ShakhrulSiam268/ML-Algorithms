{
 "cells": [
  {
   "cell_type": "code",
   "execution_count": 1,
   "id": "89d92e01",
   "metadata": {},
   "outputs": [],
   "source": [
    "import warnings\n",
    "warnings.filterwarnings(\"ignore\")\n",
    "from collections import Counter\n",
    "import pandas as pd\n",
    "import numpy as np\n",
    "import optuna\n",
    "from sklearn.ensemble import RandomForestClassifier\n",
    "from xgboost import XGBClassifier\n",
    "from imblearn.over_sampling import BorderlineSMOTE\n",
    "from sklearn.metrics import precision_score, accuracy_score, recall_score,f1_score"
   ]
  },
  {
   "cell_type": "markdown",
   "id": "1590a67e",
   "metadata": {},
   "source": [
    "# Data Parser"
   ]
  },
  {
   "cell_type": "code",
   "execution_count": 2,
   "id": "1fb351a9",
   "metadata": {},
   "outputs": [
    {
     "name": "stdout",
     "output_type": "stream",
     "text": [
      "(31167, 47) (988, 47)\n"
     ]
    }
   ],
   "source": [
    "Train = pd.read_csv('../Dataset/Train.csv')\n",
    "Test = pd.read_csv('../Dataset/Test.csv')\n",
    "\n",
    "x_train = np.array(Train.iloc[:,:-1])\n",
    "x_test = np.array(Test.iloc[:,:-1])\n",
    "\n",
    "y_train = Train.iloc[:,-1]\n",
    "y_test = Test.iloc[:,-1]\n",
    "\n",
    "print(x_train.shape, x_test.shape)"
   ]
  },
  {
   "cell_type": "markdown",
   "id": "5854f539",
   "metadata": {},
   "source": [
    "# Random Forest Classifier\n",
    "\n",
    "- [x] Calibration\n",
    "- [x] Oversampling\n",
    "- [x] Parameter Tuning"
   ]
  },
  {
   "cell_type": "code",
   "execution_count": 3,
   "id": "060654d2",
   "metadata": {},
   "outputs": [],
   "source": [
    "class ClassifierModel:\n",
    "    def __init__(self,model, parameters=None):\n",
    "        self.model=model\n",
    "        print('Model Selected : ',self.model.__name__)\n",
    "        self.parameters = parameters\n",
    "        self.best_param = None\n",
    "        self.scorer_function = None\n",
    "        self.y_pred = None\n",
    "        \n",
    "        \n",
    "    def fit(self, x_train, y_train,\n",
    "            scorer_function=accuracy_score, \n",
    "            oversampling=False, \n",
    "            tune_param=True,\n",
    "           n_iter=100):\n",
    "        self.scorer_function = scorer_function\n",
    "        if oversampling:\n",
    "            print('Previous dataset shape %s' % Counter(y_train))\n",
    "            sm = BorderlineSMOTE(random_state=42)\n",
    "            x_train, y_train = sm.fit_resample(x_train, y_train)\n",
    "            print('Resampled dataset shape %s' % Counter(y_train))\n",
    "            \n",
    "        if tune_param:\n",
    "            self.parameter_tune(n_iter=n_iter)\n",
    "            self.best_param['n_jobs']=-1\n",
    "            self.model = self.model(**self.best_param)\n",
    "            \n",
    "        else:\n",
    "            if self.parameters is not None:\n",
    "                self.model = self.model(**self.parameters)\n",
    "            else:\n",
    "                self.model = self.model(n_jobs=-1)\n",
    "        \n",
    "        self.model.fit(x_train, y_train)\n",
    "\n",
    "    def predict(self, x_test):\n",
    "        self.y_pred = self.model.predict(x_test)\n",
    "        return self.y_pred\n",
    "\n",
    "    def predict_proba(self, x_test):\n",
    "        proba = self.model.predict_proba(x_test)\n",
    "        return proba\n",
    "    \n",
    "    def evaluate(self, x_test, y_test, metric=[accuracy_score, recall_score, f1_score]):\n",
    "        self.y_pred = self.predict(x_test)\n",
    "        for met in metric:\n",
    "            print(str(met.__name__),' : ',met(y_test, self.y_pred))\n",
    "\n",
    "        \n",
    "    def parameter_tune(self, n_iter=100):\n",
    "        optuna.logging.set_verbosity(optuna.logging.WARNING)\n",
    "        self.default_params = self.parameters\n",
    "        self.study = optuna.create_study(direction='maximize')\n",
    "        self.study.optimize(self.objective, n_trials=n_iter,show_progress_bar=True)\n",
    "        self.trial = self.study.best_trial\n",
    "        self.best_param = self.trial.params\n",
    "        \n",
    "        \n",
    "    def objective(self, trial):\n",
    "        parameter_dict = {}\n",
    "        for key, value in self.default_params.items():\n",
    "            parameter_dict[key] = trial.suggest_categorical(key, value)\n",
    "\n",
    "        parameter_dict['n_jobs']=-1\n",
    "        clf = self.model(**parameter_dict)\n",
    "        clf.fit(x_train, y_train)\n",
    "        y_pred = clf.predict(x_test)\n",
    "        return self.scorer_function(y_test, y_pred)\n",
    "\n"
   ]
  },
  {
   "cell_type": "markdown",
   "id": "530be806",
   "metadata": {},
   "source": [
    "# Parameter tuning Random Forest"
   ]
  },
  {
   "cell_type": "code",
   "execution_count": 4,
   "id": "1d5c92d0",
   "metadata": {},
   "outputs": [
    {
     "name": "stdout",
     "output_type": "stream",
     "text": [
      "Model Selected :  RandomForestClassifier\n"
     ]
    },
    {
     "data": {
      "application/vnd.jupyter.widget-view+json": {
       "model_id": "e078faf632404e929cc27d25fac41b57",
       "version_major": 2,
       "version_minor": 0
      },
      "text/plain": [
       "  0%|          | 0/10 [00:00<?, ?it/s]"
      ]
     },
     "metadata": {},
     "output_type": "display_data"
    },
    {
     "name": "stdout",
     "output_type": "stream",
     "text": [
      "accuracy_score  :  0.881578947368421\n",
      "recall_score  :  0.75\n",
      "f1_score  :  0.7664670658682634\n"
     ]
    }
   ],
   "source": [
    "params_list_RF = {'max_depth' : [2, 5, 8, 10, None],\n",
    "                    'min_samples_split': [2, 3, 5, 10],\n",
    "                    'min_samples_leaf': [1, 2, 3, 5, 10],\n",
    "                    'class_weight':['balanced', None],\n",
    "                    'random_state':[135],\n",
    "                    'n_estimators': [50, 75, 100]}\n",
    "\n",
    "clf = ClassifierModel(RandomForestClassifier, parameters=params_list_RF)\n",
    "clf.fit(x_train, y_train, oversampling=False, tune_param=True, n_iter=10)\n",
    "clf.evaluate(x_test, y_test)"
   ]
  },
  {
   "cell_type": "markdown",
   "id": "ade874b9",
   "metadata": {},
   "source": [
    "# xgboost"
   ]
  },
  {
   "cell_type": "code",
   "execution_count": 5,
   "id": "049b0d65",
   "metadata": {
    "scrolled": false
   },
   "outputs": [
    {
     "name": "stdout",
     "output_type": "stream",
     "text": [
      "Model Selected :  XGBClassifier\n"
     ]
    },
    {
     "data": {
      "application/vnd.jupyter.widget-view+json": {
       "model_id": "1b6f0305ff3e47feaadf4cacb7a41f00",
       "version_major": 2,
       "version_minor": 0
      },
      "text/plain": [
       "  0%|          | 0/10 [00:00<?, ?it/s]"
      ]
     },
     "metadata": {},
     "output_type": "display_data"
    },
    {
     "name": "stdout",
     "output_type": "stream",
     "text": [
      "accuracy_score  :  0.8896761133603239\n",
      "recall_score  :  0.58984375\n",
      "f1_score  :  0.734793187347932\n"
     ]
    }
   ],
   "source": [
    "params_list_xgb = {'n_estimators': [50, 75, 100], \n",
    "          'learning_rate': [0.1, 0.5],\n",
    "          'max_depth': [3, 5, 10]}\n",
    "\n",
    "\n",
    "clf = ClassifierModel(XGBClassifier, parameters=params_list_xgb)\n",
    "clf.fit(x_train, y_train, oversampling=False, tune_param=True, n_iter=10)\n",
    "clf.evaluate(x_test, y_test)"
   ]
  },
  {
   "cell_type": "markdown",
   "id": "cede4c15",
   "metadata": {},
   "source": [
    "# without oversampling and parameter tuning"
   ]
  },
  {
   "cell_type": "code",
   "execution_count": 6,
   "id": "ea1d552c",
   "metadata": {},
   "outputs": [
    {
     "name": "stdout",
     "output_type": "stream",
     "text": [
      "Model Selected :  RandomForestClassifier\n",
      "accuracy_score  :  0.8765182186234818\n",
      "recall_score  :  0.5390625\n",
      "f1_score  :  0.6934673366834172\n"
     ]
    }
   ],
   "source": [
    "parameters = {'bootstrap': True,\n",
    "              'n_estimators': 50,\n",
    "              'max_features': 'sqrt',\n",
    "              'min_samples_split': 2,\n",
    "              'max_depth': None,\n",
    "              'min_samples_leaf': 50,\n",
    "              'max_leaf_nodes': None,\n",
    "              'n_jobs':-1,\n",
    "              'random_state':135}\n",
    "\n",
    "clf = ClassifierModel(RandomForestClassifier, parameters=parameters)\n",
    "clf.fit(x_train, y_train, oversampling=False, tune_param=False, n_iter=10)\n",
    "clf.evaluate(x_test, y_test, metric=[accuracy_score, recall_score, f1_score])"
   ]
  },
  {
   "cell_type": "markdown",
   "id": "6bae34cc",
   "metadata": {},
   "source": [
    "# with oversampling"
   ]
  },
  {
   "cell_type": "code",
   "execution_count": 7,
   "id": "8a017799",
   "metadata": {},
   "outputs": [
    {
     "name": "stdout",
     "output_type": "stream",
     "text": [
      "Model Selected :  RandomForestClassifier\n",
      "Previous dataset shape Counter({0: 24254, 1: 6913})\n",
      "Resampled dataset shape Counter({1: 24254, 0: 24254})\n",
      "accuracy_score  :  0.8502024291497976\n",
      "recall_score  :  0.7890625\n",
      "f1_score  :  0.7318840579710145\n"
     ]
    }
   ],
   "source": [
    "clf = ClassifierModel(RandomForestClassifier, parameters=parameters)\n",
    "clf.fit(x_train, y_train, oversampling=True, tune_param=False, n_iter=10)\n",
    "clf.evaluate(x_test, y_test, metric=[accuracy_score, recall_score, f1_score])"
   ]
  },
  {
   "cell_type": "markdown",
   "id": "cad340e0",
   "metadata": {},
   "source": [
    "# oversampling + parameter tuning"
   ]
  },
  {
   "cell_type": "code",
   "execution_count": 8,
   "id": "5033f898",
   "metadata": {},
   "outputs": [
    {
     "name": "stdout",
     "output_type": "stream",
     "text": [
      "Model Selected :  RandomForestClassifier\n",
      "Previous dataset shape Counter({0: 24254, 1: 6913})\n",
      "Resampled dataset shape Counter({1: 24254, 0: 24254})\n"
     ]
    },
    {
     "data": {
      "application/vnd.jupyter.widget-view+json": {
       "model_id": "ad8fadbcbb584ef4ace8d415839d94c0",
       "version_major": 2,
       "version_minor": 0
      },
      "text/plain": [
       "  0%|          | 0/10 [00:00<?, ?it/s]"
      ]
     },
     "metadata": {},
     "output_type": "display_data"
    },
    {
     "name": "stdout",
     "output_type": "stream",
     "text": [
      "accuracy_score  :  0.8441295546558705\n",
      "recall_score  :  0.77734375\n",
      "f1_score  :  0.7210144927536232\n"
     ]
    }
   ],
   "source": [
    "clf = ClassifierModel(RandomForestClassifier, parameters=params_list_RF)\n",
    "clf.fit(x_train, y_train, oversampling=True, tune_param=True, n_iter=10)\n",
    "clf.evaluate(x_test, y_test, metric=[accuracy_score, recall_score, f1_score])"
   ]
  },
  {
   "cell_type": "code",
   "execution_count": null,
   "id": "c0a4631c",
   "metadata": {},
   "outputs": [],
   "source": []
  }
 ],
 "metadata": {
  "kernelspec": {
   "display_name": "Python 3 (ipykernel)",
   "language": "python",
   "name": "python3"
  },
  "language_info": {
   "codemirror_mode": {
    "name": "ipython",
    "version": 3
   },
   "file_extension": ".py",
   "mimetype": "text/x-python",
   "name": "python",
   "nbconvert_exporter": "python",
   "pygments_lexer": "ipython3",
   "version": "3.8.0"
  }
 },
 "nbformat": 4,
 "nbformat_minor": 5
}
