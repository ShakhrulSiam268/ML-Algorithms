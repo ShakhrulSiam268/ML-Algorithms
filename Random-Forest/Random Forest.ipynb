{
 "cells": [
  {
   "cell_type": "code",
   "execution_count": 1,
   "id": "3e25a4cb",
   "metadata": {},
   "outputs": [],
   "source": [
    "from collections import Counter\n",
    "import pandas as pd\n",
    "import numpy as np\n",
    "from sklearn.ensemble import RandomForestClassifier\n",
    "from imblearn.over_sampling import BorderlineSMOTE\n",
    "from sklearn.metrics import precision_score, accuracy_score, recall_score,f1_score"
   ]
  },
  {
   "cell_type": "markdown",
   "id": "58e3241d",
   "metadata": {},
   "source": [
    "# Data Parser"
   ]
  },
  {
   "cell_type": "code",
   "execution_count": 2,
   "id": "b8088295",
   "metadata": {},
   "outputs": [
    {
     "name": "stdout",
     "output_type": "stream",
     "text": [
      "(31167, 47) (988, 47)\n"
     ]
    }
   ],
   "source": [
    "Train = pd.read_csv('../Dataset/Train.csv')\n",
    "Test = pd.read_csv('../Dataset/Test.csv')\n",
    "\n",
    "x_train = np.array(Train.iloc[:,:-1])\n",
    "x_test = np.array(Test.iloc[:,:-1])\n",
    "\n",
    "y_train = Train.iloc[:,-1]\n",
    "y_test = Test.iloc[:,-1]\n",
    "\n",
    "print(x_train.shape, x_test.shape)"
   ]
  },
  {
   "cell_type": "markdown",
   "id": "0693863c",
   "metadata": {},
   "source": [
    "# Random Forest Classifier\n",
    "\n",
    "- [x] Calibration\n",
    "- [x] Oversampling"
   ]
  },
  {
   "cell_type": "code",
   "execution_count": 3,
   "id": "16d5893f",
   "metadata": {},
   "outputs": [],
   "source": [
    "class RFClassifier:\n",
    "    def __init__(self, parameters=None, calibrate=False):\n",
    "        self.RF_model = RandomForestClassifier()\n",
    "        self.calibrate = calibrate\n",
    "        \n",
    "    def fit(self, x_train, y_train, oversampling=False):\n",
    "        if oversampling:\n",
    "            print('Previous dataset shape %s' % Counter(y_train))\n",
    "            sm = BorderlineSMOTE(random_state=42)\n",
    "            x_train, y_train = sm.fit_resample(x_train, y_train)\n",
    "            print('Resampled dataset shape %s' % Counter(y_train))\n",
    "        self.RF_model.fit(x_train, y_train)\n",
    "        if self.calibrate:\n",
    "            self.sig_RF = CalibratedClassifierCV(self.RF_model)\n",
    "            self.sig_RF.fit(x_train, y_train)\n",
    "\n",
    "    def predict(self, x_test):\n",
    "        if self.calibrate:\n",
    "            RF_predictions = self.sig_RF.predict(x_test)\n",
    "        else:\n",
    "            RF_predictions = self.RF_model.predict(x_test)\n",
    "        return RF_predictions\n",
    "\n",
    "    def predict_proba(self, x_test):\n",
    "        if self.calibrate:\n",
    "            proba = self.sig_RF.predict_proba(x_test)\n",
    "        else:\n",
    "            proba = self.RF_model.predict_proba(x_test)\n",
    "        return proba\n",
    "    \n",
    "    def evaluate(self, x_test, y_test):\n",
    "        y_pred = self.predict(x_test)\n",
    "        print('Accuracy : ',accuracy_score(y_test, y_pred))\n",
    "        print('Recall : ',recall_score(y_test, y_pred))\n",
    "        print('F1 score : ',f1_score(y_test, y_pred))\n"
   ]
  },
  {
   "cell_type": "code",
   "execution_count": 4,
   "id": "35712414",
   "metadata": {},
   "outputs": [],
   "source": [
    "clf = RFClassifier()"
   ]
  },
  {
   "cell_type": "code",
   "execution_count": 6,
   "id": "bd48db9c",
   "metadata": {},
   "outputs": [
    {
     "name": "stdout",
     "output_type": "stream",
     "text": [
      "Previous dataset shape Counter({0: 24254, 1: 6913})\n",
      "Resampled dataset shape Counter({1: 24254, 0: 24254})\n",
      "Accuracy :  0.8694331983805668\n",
      "Recall :  0.73828125\n",
      "F1 score :  0.7455621301775148\n"
     ]
    }
   ],
   "source": [
    "clf.fit(x_train, y_train, oversampling=True)\n",
    "clf.evaluate(x_test, y_test)"
   ]
  },
  {
   "cell_type": "code",
   "execution_count": 7,
   "id": "7b8d1fb0",
   "metadata": {},
   "outputs": [
    {
     "name": "stdout",
     "output_type": "stream",
     "text": [
      "Accuracy :  0.8836032388663968\n",
      "Recall :  0.58984375\n",
      "F1 score :  0.724220623501199\n"
     ]
    }
   ],
   "source": [
    "clf.fit(x_train, y_train, oversampling=False)\n",
    "clf.evaluate(x_test, y_test)"
   ]
  },
  {
   "cell_type": "code",
   "execution_count": null,
   "id": "cc6fc5b1",
   "metadata": {},
   "outputs": [],
   "source": []
  }
 ],
 "metadata": {
  "kernelspec": {
   "display_name": "Python 3 (ipykernel)",
   "language": "python",
   "name": "python3"
  },
  "language_info": {
   "codemirror_mode": {
    "name": "ipython",
    "version": 3
   },
   "file_extension": ".py",
   "mimetype": "text/x-python",
   "name": "python",
   "nbconvert_exporter": "python",
   "pygments_lexer": "ipython3",
   "version": "3.8.0"
  }
 },
 "nbformat": 4,
 "nbformat_minor": 5
}
