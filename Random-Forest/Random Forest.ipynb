{
 "cells": [
  {
   "cell_type": "code",
   "execution_count": 1,
   "id": "320ecaa0",
   "metadata": {},
   "outputs": [],
   "source": [
    "from collections import Counter\n",
    "import pandas as pd\n",
    "import numpy as np\n",
    "from sklearn.ensemble import RandomForestClassifier\n",
    "from imblearn.over_sampling import BorderlineSMOTE\n",
    "from sklearn.metrics import precision_score, accuracy_score, recall_score,f1_score"
   ]
  },
  {
   "cell_type": "markdown",
   "id": "8008a295",
   "metadata": {},
   "source": [
    "# Data Parser"
   ]
  },
  {
   "cell_type": "code",
   "execution_count": 2,
   "id": "71ebe628",
   "metadata": {},
   "outputs": [
    {
     "name": "stdout",
     "output_type": "stream",
     "text": [
      "(31167, 47) (988, 47)\n"
     ]
    }
   ],
   "source": [
    "Train = pd.read_csv('../Dataset/Train.csv')\n",
    "Test = pd.read_csv('../Dataset/Test.csv')\n",
    "\n",
    "x_train = np.array(Train.iloc[:,:-1])\n",
    "x_test = np.array(Test.iloc[:,:-1])\n",
    "\n",
    "y_train = Train.iloc[:,-1]\n",
    "y_test = Test.iloc[:,-1]\n",
    "\n",
    "print(x_train.shape, x_test.shape)"
   ]
  },
  {
   "cell_type": "markdown",
   "id": "84857674",
   "metadata": {},
   "source": [
    "# Random Forest Classifier\n",
    "\n",
    "- [x] Calibration\n",
    "- [x] Oversampling"
   ]
  },
  {
   "cell_type": "code",
   "execution_count": 3,
   "id": "8bfc392a",
   "metadata": {},
   "outputs": [],
   "source": [
    "class RFClassifier:\n",
    "    def __init__(self, parameters=None, calibrate=False):\n",
    "        if parameters is not None:\n",
    "            self.RF_model = RandomForestClassifier(**parameters)\n",
    "        else:\n",
    "            print('using default parameters')\n",
    "            self.RF_model = RandomForestClassifier(n_jobs=-1)\n",
    "        self.calibrate = calibrate\n",
    "        \n",
    "    def fit(self, x_train, y_train, oversampling=False):\n",
    "        if oversampling:\n",
    "            print('Previous dataset shape %s' % Counter(y_train))\n",
    "            sm = BorderlineSMOTE(random_state=42)\n",
    "            x_train, y_train = sm.fit_resample(x_train, y_train)\n",
    "            print('Resampled dataset shape %s' % Counter(y_train))\n",
    "        self.RF_model.fit(x_train, y_train)\n",
    "        if self.calibrate:\n",
    "            self.sig_RF = CalibratedClassifierCV(self.RF_model)\n",
    "            self.sig_RF.fit(x_train, y_train)\n",
    "\n",
    "    def predict(self, x_test):\n",
    "        if self.calibrate:\n",
    "            RF_predictions = self.sig_RF.predict(x_test)\n",
    "        else:\n",
    "            RF_predictions = self.RF_model.predict(x_test)\n",
    "        return RF_predictions\n",
    "\n",
    "    def predict_proba(self, x_test):\n",
    "        if self.calibrate:\n",
    "            proba = self.sig_RF.predict_proba(x_test)\n",
    "        else:\n",
    "            proba = self.RF_model.predict_proba(x_test)\n",
    "        return proba\n",
    "    \n",
    "    def evaluate(self, x_test, y_test):\n",
    "        y_pred = self.predict(x_test)\n",
    "        print('Accuracy : ',accuracy_score(y_test, y_pred))\n",
    "        print('Recall : ',recall_score(y_test, y_pred))\n",
    "        print('F1 score : ',f1_score(y_test, y_pred))\n"
   ]
  },
  {
   "cell_type": "code",
   "execution_count": 4,
   "id": "4fca83f4",
   "metadata": {},
   "outputs": [],
   "source": [
    "parameters = {'bootstrap': True,\n",
    "              'n_estimators': 50,\n",
    "              'max_features': 'sqrt',\n",
    "              'min_samples_split': 2,\n",
    "              'max_depth': None,\n",
    "              'min_samples_leaf': 50,\n",
    "              'max_leaf_nodes': None,\n",
    "              'n_jobs':-1,\n",
    "              'random_state':135}\n",
    "\n",
    "clf = RFClassifier(parameters)"
   ]
  },
  {
   "cell_type": "markdown",
   "id": "a736379c",
   "metadata": {},
   "source": [
    "# with oversampling"
   ]
  },
  {
   "cell_type": "code",
   "execution_count": 5,
   "id": "a1e05cdb",
   "metadata": {},
   "outputs": [
    {
     "name": "stdout",
     "output_type": "stream",
     "text": [
      "Previous dataset shape Counter({0: 24254, 1: 6913})\n",
      "Resampled dataset shape Counter({1: 24254, 0: 24254})\n",
      "Accuracy :  0.8502024291497976\n",
      "Recall :  0.7890625\n",
      "F1 score :  0.7318840579710145\n"
     ]
    }
   ],
   "source": [
    "clf.fit(x_train, y_train, oversampling=True)\n",
    "clf.evaluate(x_test, y_test)"
   ]
  },
  {
   "cell_type": "markdown",
   "id": "2d7ea9da",
   "metadata": {},
   "source": [
    "# without oversampling"
   ]
  },
  {
   "cell_type": "code",
   "execution_count": 6,
   "id": "26439e26",
   "metadata": {},
   "outputs": [
    {
     "name": "stdout",
     "output_type": "stream",
     "text": [
      "Accuracy :  0.8765182186234818\n",
      "Recall :  0.5390625\n",
      "F1 score :  0.6934673366834172\n"
     ]
    }
   ],
   "source": [
    "clf.fit(x_train, y_train, oversampling=False)\n",
    "clf.evaluate(x_test, y_test)"
   ]
  },
  {
   "cell_type": "code",
   "execution_count": null,
   "id": "c13a1d94",
   "metadata": {},
   "outputs": [],
   "source": []
  }
 ],
 "metadata": {
  "kernelspec": {
   "display_name": "Python 3 (ipykernel)",
   "language": "python",
   "name": "python3"
  },
  "language_info": {
   "codemirror_mode": {
    "name": "ipython",
    "version": 3
   },
   "file_extension": ".py",
   "mimetype": "text/x-python",
   "name": "python",
   "nbconvert_exporter": "python",
   "pygments_lexer": "ipython3",
   "version": "3.8.0"
  }
 },
 "nbformat": 4,
 "nbformat_minor": 5
}
