{
 "cells": [
  {
   "cell_type": "code",
   "execution_count": 7,
   "id": "88bd5bb5",
   "metadata": {},
   "outputs": [],
   "source": [
    "from collections import Counter\n",
    "import pandas as pd\n",
    "import numpy as np\n",
    "from sklearn.ensemble import RandomForestClassifier\n",
    "from sklearn.metrics import cohen_kappa_score, precision_score, accuracy_score, recall_score,f1_score"
   ]
  },
  {
   "cell_type": "code",
   "execution_count": 8,
   "id": "f4b81bab",
   "metadata": {},
   "outputs": [
    {
     "name": "stdout",
     "output_type": "stream",
     "text": [
      "(31167, 47) (988, 47)\n"
     ]
    }
   ],
   "source": [
    "Train = pd.read_csv('../Dataset/Train.csv')\n",
    "Test = pd.read_csv('../Dataset/Test.csv')\n",
    "\n",
    "x_train = np.array(Train.iloc[:,:-1])\n",
    "x_test = np.array(Test.iloc[:,:-1])\n",
    "\n",
    "y_train = Train.iloc[:,-1]\n",
    "y_test = Test.iloc[:,-1]\n",
    "\n",
    "print(x_train.shape, x_test.shape)"
   ]
  },
  {
   "cell_type": "code",
   "execution_count": 11,
   "id": "00283aff",
   "metadata": {},
   "outputs": [],
   "source": [
    "class RFClassifier:\n",
    "    def __init__(self, parameters=None, calibrate=False):\n",
    "        self.RF_model = RandomForestClassifier()\n",
    "        self.calibrate = calibrate\n",
    "        \n",
    "    def fit(self, x_train, y_train):\n",
    "        self.RF_model.fit(x_train, y_train)\n",
    "        if self.calibrate:\n",
    "            self.sig_RF = CalibratedClassifierCV(self.RF_model)\n",
    "            self.sig_RF.fit(x_train, y_train)\n",
    "\n",
    "    def predict(self, x_test):\n",
    "        if self.calibrate:\n",
    "            RF_predictions = self.sig_RF.predict(x_test)\n",
    "        else:\n",
    "            RF_predictions = self.RF_model.predict(x_test)\n",
    "        return RF_predictions\n",
    "\n",
    "    def predict_proba(self, x_test):\n",
    "        if self.calibrate:\n",
    "            proba = self.sig_RF.predict_proba(x_test)\n",
    "        else:\n",
    "            proba = self.RF_model.predict_proba(x_test)\n",
    "        return proba\n"
   ]
  },
  {
   "cell_type": "code",
   "execution_count": 13,
   "id": "96ddbab6",
   "metadata": {},
   "outputs": [],
   "source": [
    "clf = RFClassifier()\n",
    "clf.fit(x_train, y_train)"
   ]
  },
  {
   "cell_type": "code",
   "execution_count": 14,
   "id": "a8abe86e",
   "metadata": {},
   "outputs": [
    {
     "data": {
      "text/plain": [
       "0.8825910931174089"
      ]
     },
     "execution_count": 14,
     "metadata": {},
     "output_type": "execute_result"
    }
   ],
   "source": [
    "predictions = clf.predict(x_test)\n",
    "accuracy_score(y_test, predictions)"
   ]
  },
  {
   "cell_type": "code",
   "execution_count": null,
   "id": "5fb4d689",
   "metadata": {},
   "outputs": [],
   "source": []
  }
 ],
 "metadata": {
  "kernelspec": {
   "display_name": "Python 3 (ipykernel)",
   "language": "python",
   "name": "python3"
  },
  "language_info": {
   "codemirror_mode": {
    "name": "ipython",
    "version": 3
   },
   "file_extension": ".py",
   "mimetype": "text/x-python",
   "name": "python",
   "nbconvert_exporter": "python",
   "pygments_lexer": "ipython3",
   "version": "3.8.0"
  }
 },
 "nbformat": 4,
 "nbformat_minor": 5
}
