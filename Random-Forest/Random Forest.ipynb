{
 "cells": [
  {
   "cell_type": "code",
   "execution_count": 1,
   "id": "89d92e01",
   "metadata": {},
   "outputs": [],
   "source": [
    "from collections import Counter\n",
    "import pandas as pd\n",
    "import numpy as np\n",
    "import optuna\n",
    "from sklearn.ensemble import RandomForestClassifier\n",
    "from xgboost import XGBClassifier\n",
    "from imblearn.over_sampling import BorderlineSMOTE\n",
    "from sklearn.metrics import precision_score, accuracy_score, recall_score,f1_score"
   ]
  },
  {
   "cell_type": "markdown",
   "id": "1590a67e",
   "metadata": {},
   "source": [
    "# Data Parser"
   ]
  },
  {
   "cell_type": "code",
   "execution_count": 2,
   "id": "1fb351a9",
   "metadata": {},
   "outputs": [
    {
     "name": "stdout",
     "output_type": "stream",
     "text": [
      "(31167, 47) (988, 47)\n"
     ]
    }
   ],
   "source": [
    "Train = pd.read_csv('../Dataset/Train.csv')\n",
    "Test = pd.read_csv('../Dataset/Test.csv')\n",
    "\n",
    "x_train = np.array(Train.iloc[:,:-1])\n",
    "x_test = np.array(Test.iloc[:,:-1])\n",
    "\n",
    "y_train = Train.iloc[:,-1]\n",
    "y_test = Test.iloc[:,-1]\n",
    "\n",
    "print(x_train.shape, x_test.shape)"
   ]
  },
  {
   "cell_type": "markdown",
   "id": "5854f539",
   "metadata": {},
   "source": [
    "# Random Forest Classifier\n",
    "\n",
    "- [x] Calibration\n",
    "- [x] Oversampling\n",
    "- [x] Parameter Tuning"
   ]
  },
  {
   "cell_type": "code",
   "execution_count": 3,
   "id": "060654d2",
   "metadata": {},
   "outputs": [],
   "source": [
    "class RFClassifier:\n",
    "    def __init__(self,model, parameters=None, calibrate=False):\n",
    "        self.model=model\n",
    "        self.parameters = parameters\n",
    "        self.calibrate = calibrate\n",
    "        self.best_param = None\n",
    "        self.scorer_function = None\n",
    "        self.y_pred = None\n",
    "        \n",
    "#         if self.parameters is not None:\n",
    "#             self.RF_model = RandomForestClassifier(**self.parameters)\n",
    "#         else:\n",
    "#             print('using default parameters')\n",
    "#             self.RF_model = RandomForestClassifier(n_jobs=-1)\n",
    "        \n",
    "        \n",
    "    def fit(self, x_train, y_train,\n",
    "            scorer_function=accuracy_score, \n",
    "            oversampling=False, \n",
    "            tune_param=True,\n",
    "           n_iter=100):\n",
    "        self.scorer_function = scorer_function\n",
    "        if oversampling:\n",
    "            print('Previous dataset shape %s' % Counter(y_train))\n",
    "            sm = BorderlineSMOTE(random_state=42)\n",
    "            x_train, y_train = sm.fit_resample(x_train, y_train)\n",
    "            print('Resampled dataset shape %s' % Counter(y_train))\n",
    "            \n",
    "        if tune_param:\n",
    "            self.parameter_tune(n_iter=n_iter)\n",
    "            self.model = self.model(**self.best_param)\n",
    "            \n",
    "        else:\n",
    "            if self.parameters is not None:\n",
    "                self.model = self.model(self.parameters)\n",
    "            else:\n",
    "                self.model = self.model(n_jobs=-1)\n",
    "        \n",
    "        self.model.fit(x_train, y_train)\n",
    "#         if self.calibrate:\n",
    "#             self.RF_model = CalibratedClassifierCV(self.RF_model)\n",
    "#             self.RF_model.fit(x_train, y_train)\n",
    "\n",
    "    def predict(self, x_test):\n",
    "        self.y_pred = self.model.predict(x_test)\n",
    "        return self.y_pred\n",
    "\n",
    "    def predict_proba(self, x_test):\n",
    "        proba = self.model.predict_proba(x_test)\n",
    "        return proba\n",
    "    \n",
    "    def evaluate(self, x_test, y_test, metric=[accuracy_score, recall_score, f1_score]):\n",
    "#         y_pred = self.predict(x_test)\n",
    "        for met in metric:\n",
    "            print(str(met.__name__),' : ',met(y_test, self.y_pred))\n",
    "\n",
    "        \n",
    "    def parameter_tune(self, n_iter=100):\n",
    "        \n",
    "#         self.default_params = {'max_depth' : [2, 5],\n",
    "#                                 'min_samples_split': [2, 3, 5],\n",
    "#                                 'min_samples_leaf': [1, 2, 3],\n",
    "#                                 'class_weight':['balanced', None],\n",
    "#                                 'random_state':[135],\n",
    "#                                 'n_estimators': [75, 100],\n",
    "#                                 'n_jobs':-1}\n",
    "#         self.default_params.update(self.parameters)\n",
    "        self.default_params = self.parameters\n",
    "        self.study = optuna.create_study(direction='maximize')\n",
    "        self.study.optimize(self.objective, n_trials=n_iter)\n",
    "        self.trial = self.study.best_trial\n",
    "        self.best_param = self.trial.params\n",
    "        \n",
    "        \n",
    "    def objective(self, trial):\n",
    "        max_depth = trial.suggest_categorical('max_depth', self.default_params['max_depth'])\n",
    "        min_samples_split = trial.suggest_categorical('min_samples_split', self.default_params['min_samples_split'])\n",
    "        min_samples_leaf = trial.suggest_categorical('min_samples_leaf', self.default_params['min_samples_leaf'])\n",
    "        class_weight = trial.suggest_categorical('class_weight', self.default_params['class_weight'])\n",
    "        n_estimators = trial.suggest_categorical('n_estimators', self.default_params['n_estimators'])\n",
    "        n_jobs = self.default_params['n_jobs']\n",
    "\n",
    "        clf = self.model(n_estimators=n_estimators, max_depth=max_depth,\n",
    "                                     min_samples_split=min_samples_split,\n",
    "                                    min_samples_leaf=min_samples_leaf,class_weight=class_weight,\n",
    "                                    n_jobs=n_jobs)\n",
    "        clf.fit(x_train, y_train)\n",
    "        y_pred = clf.predict(x_test)\n",
    "        return self.scorer_function(y_test, y_pred)\n",
    "\n"
   ]
  },
  {
   "cell_type": "markdown",
   "id": "867fd6ee",
   "metadata": {},
   "source": [
    "# Optuna Test"
   ]
  },
  {
   "cell_type": "code",
   "execution_count": null,
   "id": "8fe7d948",
   "metadata": {},
   "outputs": [],
   "source": [
    "params = {'max_depth' : [2, 5, 8, 10, None],\n",
    "'min_samples_split': [2, 3, 5, 10],\n",
    "'min_samples_leaf': [1, 2, 3, 5, 10],\n",
    "'class_weight':['balanced', None],\n",
    "'random_state':[135],\n",
    "'n_estimators': [50, 75, 100],\n",
    "'n_jobs':-1}\n",
    "\n",
    "clf = RFClassifier(RandomForestClassifier, parameters=params, calibrate=True)\n",
    "clf.fit(x_train, y_train, oversampling=False, tune_param=True, n_iter=10)\n",
    "clf.predict(x_test)\n",
    "clf.evaluate(x_test, y_test)"
   ]
  },
  {
   "cell_type": "markdown",
   "id": "04bd9648",
   "metadata": {},
   "source": [
    "# xgboost"
   ]
  },
  {
   "cell_type": "code",
   "execution_count": 4,
   "id": "906be19a",
   "metadata": {},
   "outputs": [
    {
     "name": "stderr",
     "output_type": "stream",
     "text": [
      "\u001b[32m[I 2022-06-21 10:41:10,614]\u001b[0m A new study created in memory with name: no-name-0901cf72-7baa-4ddb-8d00-222a260aae2a\u001b[0m\n",
      "\u001b[33m[W 2022-06-21 10:41:10,616]\u001b[0m Trial 0 failed because of the following error: KeyError('min_samples_split')\u001b[0m\n",
      "Traceback (most recent call last):\n",
      "  File \"/home/aci/anaconda3/envs/test_env/lib/python3.8/site-packages/optuna/study/_optimize.py\", line 213, in _run_trial\n",
      "    value_or_values = func(trial)\n",
      "  File \"/tmp/ipykernel_57663/3850936899.py\", line 77, in objective\n",
      "    min_samples_split = trial.suggest_categorical('min_samples_split', self.default_params['min_samples_split'])\n",
      "KeyError: 'min_samples_split'\n"
     ]
    },
    {
     "ename": "KeyError",
     "evalue": "'min_samples_split'",
     "output_type": "error",
     "traceback": [
      "\u001b[0;31m---------------------------------------------------------------------------\u001b[0m",
      "\u001b[0;31mKeyError\u001b[0m                                  Traceback (most recent call last)",
      "Input \u001b[0;32mIn [4]\u001b[0m, in \u001b[0;36m<cell line: 8>\u001b[0;34m()\u001b[0m\n\u001b[1;32m      1\u001b[0m params \u001b[38;5;241m=\u001b[39m {\u001b[38;5;124m'\u001b[39m\u001b[38;5;124mn_estimators\u001b[39m\u001b[38;5;124m'\u001b[39m: [\u001b[38;5;241m50\u001b[39m, \u001b[38;5;241m75\u001b[39m, \u001b[38;5;241m100\u001b[39m], \u001b[38;5;124m'\u001b[39m\u001b[38;5;124mlearning_rate\u001b[39m\u001b[38;5;124m'\u001b[39m: [\u001b[38;5;241m0.1\u001b[39m,\u001b[38;5;241m0.5\u001b[39m],\n\u001b[1;32m      2\u001b[0m           \u001b[38;5;124m'\u001b[39m\u001b[38;5;124mmax_depth\u001b[39m\u001b[38;5;124m'\u001b[39m: [\u001b[38;5;241m3\u001b[39m,\u001b[38;5;241m5\u001b[39m,\u001b[38;5;241m10\u001b[39m],\n\u001b[1;32m      3\u001b[0m           \u001b[38;5;124m'\u001b[39m\u001b[38;5;124mrandom_state\u001b[39m\u001b[38;5;124m'\u001b[39m: \u001b[38;5;241m0\u001b[39m,\n\u001b[1;32m      4\u001b[0m          \u001b[38;5;124m'\u001b[39m\u001b[38;5;124mn_jobs\u001b[39m\u001b[38;5;124m'\u001b[39m:\u001b[38;5;241m-\u001b[39m\u001b[38;5;241m1\u001b[39m}\n\u001b[1;32m      7\u001b[0m clf \u001b[38;5;241m=\u001b[39m RFClassifier(XGBClassifier, parameters\u001b[38;5;241m=\u001b[39mparams, calibrate\u001b[38;5;241m=\u001b[39m\u001b[38;5;28;01mTrue\u001b[39;00m)\n\u001b[0;32m----> 8\u001b[0m \u001b[43mclf\u001b[49m\u001b[38;5;241;43m.\u001b[39;49m\u001b[43mfit\u001b[49m\u001b[43m(\u001b[49m\u001b[43mx_train\u001b[49m\u001b[43m,\u001b[49m\u001b[43m \u001b[49m\u001b[43my_train\u001b[49m\u001b[43m,\u001b[49m\u001b[43m \u001b[49m\u001b[43moversampling\u001b[49m\u001b[38;5;241;43m=\u001b[39;49m\u001b[38;5;28;43;01mFalse\u001b[39;49;00m\u001b[43m,\u001b[49m\u001b[43m \u001b[49m\u001b[43mtune_param\u001b[49m\u001b[38;5;241;43m=\u001b[39;49m\u001b[38;5;28;43;01mTrue\u001b[39;49;00m\u001b[43m,\u001b[49m\u001b[43m \u001b[49m\u001b[43mn_iter\u001b[49m\u001b[38;5;241;43m=\u001b[39;49m\u001b[38;5;241;43m10\u001b[39;49m\u001b[43m)\u001b[49m\n\u001b[1;32m      9\u001b[0m clf\u001b[38;5;241m.\u001b[39mpredict(x_test)\n\u001b[1;32m     10\u001b[0m clf\u001b[38;5;241m.\u001b[39mevaluate(x_test, y_test)\n",
      "Input \u001b[0;32mIn [3]\u001b[0m, in \u001b[0;36mRFClassifier.fit\u001b[0;34m(self, x_train, y_train, scorer_function, oversampling, tune_param, n_iter)\u001b[0m\n\u001b[1;32m     27\u001b[0m     \u001b[38;5;28mprint\u001b[39m(\u001b[38;5;124m'\u001b[39m\u001b[38;5;124mResampled dataset shape \u001b[39m\u001b[38;5;132;01m%s\u001b[39;00m\u001b[38;5;124m'\u001b[39m \u001b[38;5;241m%\u001b[39m Counter(y_train))\n\u001b[1;32m     29\u001b[0m \u001b[38;5;28;01mif\u001b[39;00m tune_param:\n\u001b[0;32m---> 30\u001b[0m     \u001b[38;5;28;43mself\u001b[39;49m\u001b[38;5;241;43m.\u001b[39;49m\u001b[43mparameter_tune\u001b[49m\u001b[43m(\u001b[49m\u001b[43mn_iter\u001b[49m\u001b[38;5;241;43m=\u001b[39;49m\u001b[43mn_iter\u001b[49m\u001b[43m)\u001b[49m\n\u001b[1;32m     31\u001b[0m     \u001b[38;5;28mself\u001b[39m\u001b[38;5;241m.\u001b[39mmodel \u001b[38;5;241m=\u001b[39m \u001b[38;5;28mself\u001b[39m\u001b[38;5;241m.\u001b[39mmodel(\u001b[38;5;241m*\u001b[39m\u001b[38;5;241m*\u001b[39m\u001b[38;5;28mself\u001b[39m\u001b[38;5;241m.\u001b[39mbest_param)\n\u001b[1;32m     33\u001b[0m \u001b[38;5;28;01melse\u001b[39;00m:\n",
      "Input \u001b[0;32mIn [3]\u001b[0m, in \u001b[0;36mRFClassifier.parameter_tune\u001b[0;34m(self, n_iter)\u001b[0m\n\u001b[1;32m     68\u001b[0m \u001b[38;5;28mself\u001b[39m\u001b[38;5;241m.\u001b[39mdefault_params \u001b[38;5;241m=\u001b[39m \u001b[38;5;28mself\u001b[39m\u001b[38;5;241m.\u001b[39mparameters\n\u001b[1;32m     69\u001b[0m \u001b[38;5;28mself\u001b[39m\u001b[38;5;241m.\u001b[39mstudy \u001b[38;5;241m=\u001b[39m optuna\u001b[38;5;241m.\u001b[39mcreate_study(direction\u001b[38;5;241m=\u001b[39m\u001b[38;5;124m'\u001b[39m\u001b[38;5;124mmaximize\u001b[39m\u001b[38;5;124m'\u001b[39m)\n\u001b[0;32m---> 70\u001b[0m \u001b[38;5;28;43mself\u001b[39;49m\u001b[38;5;241;43m.\u001b[39;49m\u001b[43mstudy\u001b[49m\u001b[38;5;241;43m.\u001b[39;49m\u001b[43moptimize\u001b[49m\u001b[43m(\u001b[49m\u001b[38;5;28;43mself\u001b[39;49m\u001b[38;5;241;43m.\u001b[39;49m\u001b[43mobjective\u001b[49m\u001b[43m,\u001b[49m\u001b[43m \u001b[49m\u001b[43mn_trials\u001b[49m\u001b[38;5;241;43m=\u001b[39;49m\u001b[43mn_iter\u001b[49m\u001b[43m)\u001b[49m\n\u001b[1;32m     71\u001b[0m \u001b[38;5;28mself\u001b[39m\u001b[38;5;241m.\u001b[39mtrial \u001b[38;5;241m=\u001b[39m \u001b[38;5;28mself\u001b[39m\u001b[38;5;241m.\u001b[39mstudy\u001b[38;5;241m.\u001b[39mbest_trial\n\u001b[1;32m     72\u001b[0m \u001b[38;5;28mself\u001b[39m\u001b[38;5;241m.\u001b[39mbest_param \u001b[38;5;241m=\u001b[39m \u001b[38;5;28mself\u001b[39m\u001b[38;5;241m.\u001b[39mtrial\u001b[38;5;241m.\u001b[39mparams\n",
      "File \u001b[0;32m~/anaconda3/envs/test_env/lib/python3.8/site-packages/optuna/study/study.py:400\u001b[0m, in \u001b[0;36mStudy.optimize\u001b[0;34m(self, func, n_trials, timeout, n_jobs, catch, callbacks, gc_after_trial, show_progress_bar)\u001b[0m\n\u001b[1;32m    392\u001b[0m \u001b[38;5;28;01mif\u001b[39;00m n_jobs \u001b[38;5;241m!=\u001b[39m \u001b[38;5;241m1\u001b[39m:\n\u001b[1;32m    393\u001b[0m     warnings\u001b[38;5;241m.\u001b[39mwarn(\n\u001b[1;32m    394\u001b[0m         \u001b[38;5;124m\"\u001b[39m\u001b[38;5;124m`n_jobs` argument has been deprecated in v2.7.0. \u001b[39m\u001b[38;5;124m\"\u001b[39m\n\u001b[1;32m    395\u001b[0m         \u001b[38;5;124m\"\u001b[39m\u001b[38;5;124mThis feature will be removed in v4.0.0. \u001b[39m\u001b[38;5;124m\"\u001b[39m\n\u001b[1;32m    396\u001b[0m         \u001b[38;5;124m\"\u001b[39m\u001b[38;5;124mSee https://github.com/optuna/optuna/releases/tag/v2.7.0.\u001b[39m\u001b[38;5;124m\"\u001b[39m,\n\u001b[1;32m    397\u001b[0m         \u001b[38;5;167;01mFutureWarning\u001b[39;00m,\n\u001b[1;32m    398\u001b[0m     )\n\u001b[0;32m--> 400\u001b[0m \u001b[43m_optimize\u001b[49m\u001b[43m(\u001b[49m\n\u001b[1;32m    401\u001b[0m \u001b[43m    \u001b[49m\u001b[43mstudy\u001b[49m\u001b[38;5;241;43m=\u001b[39;49m\u001b[38;5;28;43mself\u001b[39;49m\u001b[43m,\u001b[49m\n\u001b[1;32m    402\u001b[0m \u001b[43m    \u001b[49m\u001b[43mfunc\u001b[49m\u001b[38;5;241;43m=\u001b[39;49m\u001b[43mfunc\u001b[49m\u001b[43m,\u001b[49m\n\u001b[1;32m    403\u001b[0m \u001b[43m    \u001b[49m\u001b[43mn_trials\u001b[49m\u001b[38;5;241;43m=\u001b[39;49m\u001b[43mn_trials\u001b[49m\u001b[43m,\u001b[49m\n\u001b[1;32m    404\u001b[0m \u001b[43m    \u001b[49m\u001b[43mtimeout\u001b[49m\u001b[38;5;241;43m=\u001b[39;49m\u001b[43mtimeout\u001b[49m\u001b[43m,\u001b[49m\n\u001b[1;32m    405\u001b[0m \u001b[43m    \u001b[49m\u001b[43mn_jobs\u001b[49m\u001b[38;5;241;43m=\u001b[39;49m\u001b[43mn_jobs\u001b[49m\u001b[43m,\u001b[49m\n\u001b[1;32m    406\u001b[0m \u001b[43m    \u001b[49m\u001b[43mcatch\u001b[49m\u001b[38;5;241;43m=\u001b[39;49m\u001b[43mcatch\u001b[49m\u001b[43m,\u001b[49m\n\u001b[1;32m    407\u001b[0m \u001b[43m    \u001b[49m\u001b[43mcallbacks\u001b[49m\u001b[38;5;241;43m=\u001b[39;49m\u001b[43mcallbacks\u001b[49m\u001b[43m,\u001b[49m\n\u001b[1;32m    408\u001b[0m \u001b[43m    \u001b[49m\u001b[43mgc_after_trial\u001b[49m\u001b[38;5;241;43m=\u001b[39;49m\u001b[43mgc_after_trial\u001b[49m\u001b[43m,\u001b[49m\n\u001b[1;32m    409\u001b[0m \u001b[43m    \u001b[49m\u001b[43mshow_progress_bar\u001b[49m\u001b[38;5;241;43m=\u001b[39;49m\u001b[43mshow_progress_bar\u001b[49m\u001b[43m,\u001b[49m\n\u001b[1;32m    410\u001b[0m \u001b[43m\u001b[49m\u001b[43m)\u001b[49m\n",
      "File \u001b[0;32m~/anaconda3/envs/test_env/lib/python3.8/site-packages/optuna/study/_optimize.py:66\u001b[0m, in \u001b[0;36m_optimize\u001b[0;34m(study, func, n_trials, timeout, n_jobs, catch, callbacks, gc_after_trial, show_progress_bar)\u001b[0m\n\u001b[1;32m     64\u001b[0m \u001b[38;5;28;01mtry\u001b[39;00m:\n\u001b[1;32m     65\u001b[0m     \u001b[38;5;28;01mif\u001b[39;00m n_jobs \u001b[38;5;241m==\u001b[39m \u001b[38;5;241m1\u001b[39m:\n\u001b[0;32m---> 66\u001b[0m         \u001b[43m_optimize_sequential\u001b[49m\u001b[43m(\u001b[49m\n\u001b[1;32m     67\u001b[0m \u001b[43m            \u001b[49m\u001b[43mstudy\u001b[49m\u001b[43m,\u001b[49m\n\u001b[1;32m     68\u001b[0m \u001b[43m            \u001b[49m\u001b[43mfunc\u001b[49m\u001b[43m,\u001b[49m\n\u001b[1;32m     69\u001b[0m \u001b[43m            \u001b[49m\u001b[43mn_trials\u001b[49m\u001b[43m,\u001b[49m\n\u001b[1;32m     70\u001b[0m \u001b[43m            \u001b[49m\u001b[43mtimeout\u001b[49m\u001b[43m,\u001b[49m\n\u001b[1;32m     71\u001b[0m \u001b[43m            \u001b[49m\u001b[43mcatch\u001b[49m\u001b[43m,\u001b[49m\n\u001b[1;32m     72\u001b[0m \u001b[43m            \u001b[49m\u001b[43mcallbacks\u001b[49m\u001b[43m,\u001b[49m\n\u001b[1;32m     73\u001b[0m \u001b[43m            \u001b[49m\u001b[43mgc_after_trial\u001b[49m\u001b[43m,\u001b[49m\n\u001b[1;32m     74\u001b[0m \u001b[43m            \u001b[49m\u001b[43mreseed_sampler_rng\u001b[49m\u001b[38;5;241;43m=\u001b[39;49m\u001b[38;5;28;43;01mFalse\u001b[39;49;00m\u001b[43m,\u001b[49m\n\u001b[1;32m     75\u001b[0m \u001b[43m            \u001b[49m\u001b[43mtime_start\u001b[49m\u001b[38;5;241;43m=\u001b[39;49m\u001b[38;5;28;43;01mNone\u001b[39;49;00m\u001b[43m,\u001b[49m\n\u001b[1;32m     76\u001b[0m \u001b[43m            \u001b[49m\u001b[43mprogress_bar\u001b[49m\u001b[38;5;241;43m=\u001b[39;49m\u001b[43mprogress_bar\u001b[49m\u001b[43m,\u001b[49m\n\u001b[1;32m     77\u001b[0m \u001b[43m        \u001b[49m\u001b[43m)\u001b[49m\n\u001b[1;32m     78\u001b[0m     \u001b[38;5;28;01melse\u001b[39;00m:\n\u001b[1;32m     79\u001b[0m         \u001b[38;5;28;01mif\u001b[39;00m show_progress_bar:\n",
      "File \u001b[0;32m~/anaconda3/envs/test_env/lib/python3.8/site-packages/optuna/study/_optimize.py:163\u001b[0m, in \u001b[0;36m_optimize_sequential\u001b[0;34m(study, func, n_trials, timeout, catch, callbacks, gc_after_trial, reseed_sampler_rng, time_start, progress_bar)\u001b[0m\n\u001b[1;32m    160\u001b[0m         \u001b[38;5;28;01mbreak\u001b[39;00m\n\u001b[1;32m    162\u001b[0m \u001b[38;5;28;01mtry\u001b[39;00m:\n\u001b[0;32m--> 163\u001b[0m     trial \u001b[38;5;241m=\u001b[39m \u001b[43m_run_trial\u001b[49m\u001b[43m(\u001b[49m\u001b[43mstudy\u001b[49m\u001b[43m,\u001b[49m\u001b[43m \u001b[49m\u001b[43mfunc\u001b[49m\u001b[43m,\u001b[49m\u001b[43m \u001b[49m\u001b[43mcatch\u001b[49m\u001b[43m)\u001b[49m\n\u001b[1;32m    164\u001b[0m \u001b[38;5;28;01mexcept\u001b[39;00m \u001b[38;5;167;01mException\u001b[39;00m:\n\u001b[1;32m    165\u001b[0m     \u001b[38;5;28;01mraise\u001b[39;00m\n",
      "File \u001b[0;32m~/anaconda3/envs/test_env/lib/python3.8/site-packages/optuna/study/_optimize.py:264\u001b[0m, in \u001b[0;36m_run_trial\u001b[0;34m(study, func, catch)\u001b[0m\n\u001b[1;32m    261\u001b[0m         \u001b[38;5;28;01massert\u001b[39;00m \u001b[38;5;28;01mFalse\u001b[39;00m, \u001b[38;5;124m\"\u001b[39m\u001b[38;5;124mShould not reach.\u001b[39m\u001b[38;5;124m\"\u001b[39m\n\u001b[1;32m    263\u001b[0m \u001b[38;5;28;01mif\u001b[39;00m state \u001b[38;5;241m==\u001b[39m TrialState\u001b[38;5;241m.\u001b[39mFAIL \u001b[38;5;129;01mand\u001b[39;00m func_err \u001b[38;5;129;01mis\u001b[39;00m \u001b[38;5;129;01mnot\u001b[39;00m \u001b[38;5;28;01mNone\u001b[39;00m \u001b[38;5;129;01mand\u001b[39;00m \u001b[38;5;129;01mnot\u001b[39;00m \u001b[38;5;28misinstance\u001b[39m(func_err, catch):\n\u001b[0;32m--> 264\u001b[0m     \u001b[38;5;28;01mraise\u001b[39;00m func_err\n\u001b[1;32m    265\u001b[0m \u001b[38;5;28;01mreturn\u001b[39;00m trial\n",
      "File \u001b[0;32m~/anaconda3/envs/test_env/lib/python3.8/site-packages/optuna/study/_optimize.py:213\u001b[0m, in \u001b[0;36m_run_trial\u001b[0;34m(study, func, catch)\u001b[0m\n\u001b[1;32m    210\u001b[0m     thread\u001b[38;5;241m.\u001b[39mstart()\n\u001b[1;32m    212\u001b[0m \u001b[38;5;28;01mtry\u001b[39;00m:\n\u001b[0;32m--> 213\u001b[0m     value_or_values \u001b[38;5;241m=\u001b[39m \u001b[43mfunc\u001b[49m\u001b[43m(\u001b[49m\u001b[43mtrial\u001b[49m\u001b[43m)\u001b[49m\n\u001b[1;32m    214\u001b[0m \u001b[38;5;28;01mexcept\u001b[39;00m exceptions\u001b[38;5;241m.\u001b[39mTrialPruned \u001b[38;5;28;01mas\u001b[39;00m e:\n\u001b[1;32m    215\u001b[0m     \u001b[38;5;66;03m# TODO(mamu): Handle multi-objective cases.\u001b[39;00m\n\u001b[1;32m    216\u001b[0m     state \u001b[38;5;241m=\u001b[39m TrialState\u001b[38;5;241m.\u001b[39mPRUNED\n",
      "Input \u001b[0;32mIn [3]\u001b[0m, in \u001b[0;36mRFClassifier.objective\u001b[0;34m(self, trial)\u001b[0m\n\u001b[1;32m     75\u001b[0m \u001b[38;5;28;01mdef\u001b[39;00m \u001b[38;5;21mobjective\u001b[39m(\u001b[38;5;28mself\u001b[39m, trial):\n\u001b[1;32m     76\u001b[0m     max_depth \u001b[38;5;241m=\u001b[39m trial\u001b[38;5;241m.\u001b[39msuggest_categorical(\u001b[38;5;124m'\u001b[39m\u001b[38;5;124mmax_depth\u001b[39m\u001b[38;5;124m'\u001b[39m, \u001b[38;5;28mself\u001b[39m\u001b[38;5;241m.\u001b[39mdefault_params[\u001b[38;5;124m'\u001b[39m\u001b[38;5;124mmax_depth\u001b[39m\u001b[38;5;124m'\u001b[39m])\n\u001b[0;32m---> 77\u001b[0m     min_samples_split \u001b[38;5;241m=\u001b[39m trial\u001b[38;5;241m.\u001b[39msuggest_categorical(\u001b[38;5;124m'\u001b[39m\u001b[38;5;124mmin_samples_split\u001b[39m\u001b[38;5;124m'\u001b[39m, \u001b[38;5;28;43mself\u001b[39;49m\u001b[38;5;241;43m.\u001b[39;49m\u001b[43mdefault_params\u001b[49m\u001b[43m[\u001b[49m\u001b[38;5;124;43m'\u001b[39;49m\u001b[38;5;124;43mmin_samples_split\u001b[39;49m\u001b[38;5;124;43m'\u001b[39;49m\u001b[43m]\u001b[49m)\n\u001b[1;32m     78\u001b[0m     min_samples_leaf \u001b[38;5;241m=\u001b[39m trial\u001b[38;5;241m.\u001b[39msuggest_categorical(\u001b[38;5;124m'\u001b[39m\u001b[38;5;124mmin_samples_leaf\u001b[39m\u001b[38;5;124m'\u001b[39m, \u001b[38;5;28mself\u001b[39m\u001b[38;5;241m.\u001b[39mdefault_params[\u001b[38;5;124m'\u001b[39m\u001b[38;5;124mmin_samples_leaf\u001b[39m\u001b[38;5;124m'\u001b[39m])\n\u001b[1;32m     79\u001b[0m     class_weight \u001b[38;5;241m=\u001b[39m trial\u001b[38;5;241m.\u001b[39msuggest_categorical(\u001b[38;5;124m'\u001b[39m\u001b[38;5;124mclass_weight\u001b[39m\u001b[38;5;124m'\u001b[39m, \u001b[38;5;28mself\u001b[39m\u001b[38;5;241m.\u001b[39mdefault_params[\u001b[38;5;124m'\u001b[39m\u001b[38;5;124mclass_weight\u001b[39m\u001b[38;5;124m'\u001b[39m])\n",
      "\u001b[0;31mKeyError\u001b[0m: 'min_samples_split'"
     ]
    }
   ],
   "source": [
    "params = {'n_estimators': [50, 75, 100], 'learning_rate': [0.1,0.5],\n",
    "          'max_depth': [3,5,10],\n",
    "          'random_state': 0,\n",
    "         'n_jobs':-1}\n",
    "\n",
    "\n",
    "clf = RFClassifier(XGBClassifier, parameters=params, calibrate=True)\n",
    "clf.fit(x_train, y_train, oversampling=False, tune_param=True, n_iter=10)\n",
    "clf.predict(x_test)\n",
    "clf.evaluate(x_test, y_test)"
   ]
  },
  {
   "cell_type": "code",
   "execution_count": null,
   "id": "818028f8",
   "metadata": {},
   "outputs": [],
   "source": []
  },
  {
   "cell_type": "code",
   "execution_count": null,
   "id": "07f5ecbb",
   "metadata": {},
   "outputs": [],
   "source": []
  },
  {
   "cell_type": "code",
   "execution_count": null,
   "id": "ea1d552c",
   "metadata": {},
   "outputs": [],
   "source": [
    "parameters = {'bootstrap': True,\n",
    "              'n_estimators': 50,\n",
    "              'max_features': 'sqrt',\n",
    "              'min_samples_split': 2,\n",
    "              'max_depth': None,\n",
    "              'min_samples_leaf': 50,\n",
    "              'max_leaf_nodes': None,\n",
    "              'n_jobs':-1,\n",
    "              'random_state':135}\n",
    "\n",
    "clf = RFClassifier(RandomForestClassifier, parameters=params, calibrate=True)\n",
    "clf.fit(x_train, y_train, oversampling=False, tune_param=False, n_iter=10)\n",
    "clf.evaluate(x_test, y_test, metric=[accuracy_score, recall_score, f1_score])"
   ]
  },
  {
   "cell_type": "markdown",
   "id": "6bae34cc",
   "metadata": {},
   "source": [
    "# with oversampling"
   ]
  },
  {
   "cell_type": "code",
   "execution_count": null,
   "id": "8a017799",
   "metadata": {},
   "outputs": [],
   "source": [
    "clf.fit(x_train, y_train, oversampling=True)\n",
    "clf.evaluate(x_test, y_test, metric=[accuracy_score, recall_score, f1_score])"
   ]
  },
  {
   "cell_type": "markdown",
   "id": "73260937",
   "metadata": {},
   "source": [
    "# without oversampling"
   ]
  },
  {
   "cell_type": "code",
   "execution_count": null,
   "id": "35a73b31",
   "metadata": {},
   "outputs": [],
   "source": [
    "clf.fit(x_train, y_train, oversampling=False)\n",
    "clf.evaluate(x_test, y_test, metric=[accuracy_score, recall_score, f1_score])"
   ]
  },
  {
   "cell_type": "code",
   "execution_count": null,
   "id": "5033f898",
   "metadata": {},
   "outputs": [],
   "source": []
  }
 ],
 "metadata": {
  "kernelspec": {
   "display_name": "Python 3 (ipykernel)",
   "language": "python",
   "name": "python3"
  },
  "language_info": {
   "codemirror_mode": {
    "name": "ipython",
    "version": 3
   },
   "file_extension": ".py",
   "mimetype": "text/x-python",
   "name": "python",
   "nbconvert_exporter": "python",
   "pygments_lexer": "ipython3",
   "version": "3.8.0"
  }
 },
 "nbformat": 4,
 "nbformat_minor": 5
}
